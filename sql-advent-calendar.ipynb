{
 "cells": [
  {
   "cell_type": "markdown",
   "metadata": {},
   "source": [
    "# SQL Advent Calendar"
   ]
  },
  {
   "cell_type": "markdown",
   "metadata": {},
   "source": [
    "<b>Day 1:</b> A ski resort company want to know which customers rented ski equipment for more than one type of activity (e.g., skiing and snowboarding). List the customer names and the number of distinct activities they rented equipment for."
   ]
  },
  {
   "cell_type": "code",
   "execution_count": null,
   "metadata": {
    "vscode": {
     "languageId": "sql"
    }
   },
   "outputs": [],
   "source": [
    "SELECT customer_name, \n",
    "    COUNT(DISTINCT(activity)) AS 'distinct_activities'\n",
    "from rentals\n",
    "GROUP BY customer_name \n",
    "HAVING COUNT(DISTINCT(activity)) > 1;"
   ]
  },
  {
   "cell_type": "markdown",
   "metadata": {},
   "source": [
    "<b>Day 2:</b> Santa wants to know which gifts weigh more than 1 kg. Can you list them?"
   ]
  },
  {
   "cell_type": "code",
   "execution_count": null,
   "metadata": {
    "vscode": {
     "languageId": "sql"
    }
   },
   "outputs": [],
   "source": [
    "SELECT gift_name\n",
    "from gifts\n",
    "WHERE weight_kg > 1;"
   ]
  },
  {
   "cell_type": "markdown",
   "metadata": {},
   "source": [
    "<b>Day 3:</b> You’re trying to identify the most calorie-packed candies to avoid during your holiday binge. Write a query to rank candies based on their calorie count within each category. Include the candy name, category, calories, and rank (rank_in_category) within the category."
   ]
  },
  {
   "cell_type": "code",
   "execution_count": null,
   "metadata": {
    "vscode": {
     "languageId": "sql"
    }
   },
   "outputs": [],
   "source": [
    "SELECT candy_name, candy_category, calories,\n",
    "    RANK() OVER(PARTITION BY candy_category ORDER BY calories DESC) AS 'rank_in_category'\n",
    "from candy_nutrition;"
   ]
  },
  {
   "cell_type": "markdown",
   "metadata": {},
   "source": [
    "<b>Day 4:</b> You’re planning your next ski vacation and want to find the best regions with heavy snowfall. Given the tables resorts and snowfall, find the average snowfall for each region and sort the regions in descending order of average snowfall. Return the columns region and average_snowfall."
   ]
  },
  {
   "cell_type": "code",
   "execution_count": null,
   "metadata": {
    "vscode": {
     "languageId": "sql"
    }
   },
   "outputs": [],
   "source": [
    "SELECT ski_resorts.region, \n",
    "    AVG(snowfall.snowfall_inches) as 'average_snowfall' \n",
    "from ski_resorts\n",
    "INNER JOIN snowfall\n",
    "ON ski_resorts.resort_id = snowfall.resort_id \n",
    "GROUP BY ski_resorts.region\n",
    "ORDER BY average_snowfall DESC;"
   ]
  },
  {
   "cell_type": "markdown",
   "metadata": {},
   "source": [
    "<b>Day 5:</b> This year, we're celebrating Christmas in the Southern Hemisphere! Which beaches are expected to have temperatures above 30°C on Christmas Day?"
   ]
  },
  {
   "cell_type": "code",
   "execution_count": null,
   "metadata": {
    "vscode": {
     "languageId": "sql"
    }
   },
   "outputs": [],
   "source": [
    "SELECT beach_name\n",
    "from beach_temperature_predictions\n",
    "WHERE expected_temperature_c > 30 AND date = '2024-12-25';"
   ]
  },
  {
   "cell_type": "markdown",
   "metadata": {},
   "source": [
    "<b>Day 6:</b> Scientists are tracking polar bears across the Arctic to monitor their migration patterns and caloric intake. Write a query to find the top 3 polar bears that have traveled the longest total distance in December 2024. Include their bear_id, bear_name, and total_distance_traveled in the results."
   ]
  },
  {
   "cell_type": "code",
   "execution_count": null,
   "metadata": {
    "vscode": {
     "languageId": "sql"
    }
   },
   "outputs": [],
   "source": [
    "SELECT polar_bears.bear_id, polar_bears.bear_name, \n",
    "        sum(tracking.distance_km) as 'total_distance_traveled'\n",
    "from polar_bears\n",
    "INNER JOIN tracking \n",
    "ON polar_bears.bear_id = tracking.bear_id\n",
    "WHERE tracking.date BETWEEN '2024-12-01' AND '2024-12-31'\n",
    "GROUP BY polar_bears.bear_id\n",
    "ORDER BY total_distance_traveled DESC\n",
    "LIMIT 3;"
   ]
  },
  {
   "cell_type": "markdown",
   "metadata": {},
   "source": [
    "<b>Day 7:</b> The owner of a winter market wants to know which vendors have generated the highest revenue overall. For each vendor, calculate the total revenue for all their items and return a list of the top 2 vendors by total revenue. Include the vendor_name and total_revenue in your results."
   ]
  },
  {
   "cell_type": "code",
   "execution_count": null,
   "metadata": {
    "vscode": {
     "languageId": "sql"
    }
   },
   "outputs": [],
   "source": [
    "SELECT vendors.vendor_name, \n",
    "    sum(sales.price_per_unit * sales.quantity_sold) as 'total_revenue'\n",
    "from vendors\n",
    "INNER JOIN sales\n",
    "ON vendors.vendor_id = sales.vendor_id\n",
    "GROUP BY vendors.vendor_id\n",
    "ORDER BY total_revenue DESC\n",
    "LIMIT 2;"
   ]
  },
  {
   "cell_type": "markdown",
   "metadata": {},
   "source": [
    "<b>Day 8:</b> You are managing inventory in Santa's workshop. Which gifts are meant for \"good\" recipients? List the gift name and its weight."
   ]
  },
  {
   "cell_type": "code",
   "execution_count": null,
   "metadata": {
    "vscode": {
     "languageId": "sql"
    }
   },
   "outputs": [],
   "source": [
    "SELECT gift_name\n",
    "from gifts\n",
    "WHERE recipient_type = 'good';"
   ]
  }
 ],
 "metadata": {
  "kernelspec": {
   "display_name": ".venv",
   "language": "python",
   "name": "python3"
  },
  "language_info": {
   "codemirror_mode": {
    "name": "ipython",
    "version": 3
   },
   "file_extension": ".py",
   "mimetype": "text/x-python",
   "name": "python",
   "nbconvert_exporter": "python",
   "pygments_lexer": "ipython3",
   "version": "3.12.8"
  }
 },
 "nbformat": 4,
 "nbformat_minor": 2
}
